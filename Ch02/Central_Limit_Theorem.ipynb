{
 "cells": [
  {
   "cell_type": "markdown",
   "id": "e09fe0b2",
   "metadata": {},
   "source": [
    "# Uniform Distribution\n",
    "\n",
    "Before we go over the central limit theorem, it is useful to go over the uniform distribution for a continuous variable. This is defined by\n",
    "\n",
    "$$\n",
    "U(x|a,b) = \\frac{1}{b-a}\n",
    "$$\n",
    "\n",
    "for $a \\leq x \\leq b$. \n",
    "\n",
    "**TODO** "
   ]
  },
  {
   "cell_type": "markdown",
   "id": "56c37cde",
   "metadata": {},
   "source": [
    "# Central Limit Theorem\n",
    "\n",
    "**TODO**: Show statement and proof of the central limit theorem."
   ]
  },
  {
   "cell_type": "code",
   "execution_count": null,
   "id": "e845c8f8",
   "metadata": {},
   "outputs": [],
   "source": [
    "# TODO: Visualize the central limit theorem a la pg. 79 of PRML"
   ]
  }
 ],
 "metadata": {
  "kernelspec": {
   "display_name": "Python 3 (ipykernel)",
   "language": "python",
   "name": "python3"
  },
  "language_info": {
   "codemirror_mode": {
    "name": "ipython",
    "version": 3
   },
   "file_extension": ".py",
   "mimetype": "text/x-python",
   "name": "python",
   "nbconvert_exporter": "python",
   "pygments_lexer": "ipython3",
   "version": "3.11.4"
  }
 },
 "nbformat": 4,
 "nbformat_minor": 5
}
