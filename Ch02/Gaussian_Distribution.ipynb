{
 "cells": [
  {
   "cell_type": "markdown",
   "id": "41cffbd2",
   "metadata": {},
   "source": [
    "# Properties of Gaussians\n",
    "\n",
    "The Gaussian distribution is one of the most widely used distributions in machine learning, which we will see as these notes progress. For a single variable the Gaussian is defined as \n",
    "\n",
    "$$\n",
    "\\mathcal{N}(x|\\mu, \\sigma^2) = \\frac{1}{(2\\pi \\sigma^2)^{\\frac{1}{2}}}e^{-\\frac{1}{2\\sigma^2}(x - \\mu)^2}\n",
    "$$\n",
    "\n",
    "where $\\mu$ is the mean and $\\sigma^2$ is the variance. The multivariate Gaussian is defined as\n",
    "\n",
    "$$\n",
    "\\mathcal{N}(\\pmb{x}|\\pmb{\\mu}, \\pmb{\\Sigma}) = \\frac{1}{(2\\pi)^{\\frac{D}{2}}}\\frac{1}{|\\pmb{\\Sigma}|^{\\frac{1}{2}}}e^{-\\frac{1}{2}(\\pmb{x} - \\pmb{\\mu})^T\\pmb{\\Sigma}^{-1}(\\pmb{x} - \\pmb{\\mu})}\n",
    "$$\n",
    "\n",
    "where $\\pmb{\\mu}$ is a D-dimensional mean vector, $\\pmb{\\Sigma}$ is a $D \\times D$ covariance matrix and $|\\pmb{\\Sigma}|$ is the determinant of the covariance. For ease of notation, I will drop the convention of using bold text to respresent vector values and instead use context to indicate when we are talking about a vector or scalar value."
   ]
  },
  {
   "cell_type": "markdown",
   "id": "df4de74c",
   "metadata": {},
   "source": [
    "# Appendix\n",
    "\n",
    "*Statement: (PRML Exercise 2.13)* KL Divergence of two multivariate Gaussians $p(x) = \\mathcal{N}(x|\\mu, \\Sigma)$ and $q(x) = \\mathcal{N}(x|m, L)$.\n",
    "\n",
    "*Proof:* **TODO**\n",
    "\n",
    "*Statement: (PRML Exercise 2.14)* The multivariate distribution with maximum entropy, for a given covariance, is a multivariate Gaussian distribution.\n",
    "\n",
    "*Proof:* **TODO**\n",
    "\n",
    "*Statement: (PRML Exercise 2.15)* The entropy of a multivariate Gaussian $\\mathcal{N}(x|\\mu, \\Sigma)$ is given by\n",
    "\n",
    "$$\n",
    "H[x] = \\frac{1}{2}ln|\\Sigma| + \\frac{D}{2}(1 + ln(2\\pi))\n",
    "$$\n",
    "\n",
    "where D is the dimensionality of x. "
   ]
  },
  {
   "cell_type": "markdown",
   "id": "a16a22b6",
   "metadata": {},
   "source": []
  },
  {
   "cell_type": "code",
   "execution_count": null,
   "id": "2bb984de",
   "metadata": {},
   "outputs": [],
   "source": []
  }
 ],
 "metadata": {
  "kernelspec": {
   "display_name": "Python 3 (ipykernel)",
   "language": "python",
   "name": "python3"
  },
  "language_info": {
   "codemirror_mode": {
    "name": "ipython",
    "version": 3
   },
   "file_extension": ".py",
   "mimetype": "text/x-python",
   "name": "python",
   "nbconvert_exporter": "python",
   "pygments_lexer": "ipython3",
   "version": "3.11.4"
  }
 },
 "nbformat": 4,
 "nbformat_minor": 5
}
